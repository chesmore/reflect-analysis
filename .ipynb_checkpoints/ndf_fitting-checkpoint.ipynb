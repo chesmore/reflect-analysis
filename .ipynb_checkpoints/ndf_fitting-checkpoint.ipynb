{
 "cells": [
  {
   "cell_type": "markdown",
   "metadata": {},
   "source": [
    "# Reflectivity Analysis Example: Neutral Density Filters\n",
    "This notebook demonstrates fitting the reflectivity of three neutral density filter (NDF) samples (https://en.wikipedia.org/wiki/Neutral-density_filter). NDF is often used as an absorber in radio telescopes (see example: https://ntrs.nasa.gov/archive/nasa/casi.ntrs.nasa.gov/20100022018.pdf)."
   ]
  },
  {
   "cell_type": "code",
   "execution_count": 1,
   "metadata": {
    "jupyter": {
     "source_hidden": true
    }
   },
   "outputs": [],
   "source": [
    "import numpy as np\n",
    "from numpy import random as rand\n",
    "import matplotlib \n",
    "import matplotlib.pyplot as plt\n",
    "from scipy.optimize import curve_fit\n",
    "import refl\n",
    "import fpga_daq\n",
    "%matplotlib inline\n",
    "%config InlineBackend.figure_format = 'retina'\n",
    "plt.style.use('ggplot')"
   ]
  },
  {
   "cell_type": "code",
   "execution_count": 2,
   "metadata": {
    "jupyter": {
     "source_hidden": true
    }
   },
   "outputs": [],
   "source": [
    "p = '../Data_ndf/74-124GHz_0_499_11-18_plate.txt'\n",
    "h = '../Data_ndf/74-124GHz_0_499_11-18_hdpe.txt'\n",
    "ndf110 = '../Data_ndf/74-124GHz_0_499_11-18_ndf110.txt'\n",
    "ndf112 = '../Data_ndf/74-124GHz_0_499_11-18_ndf112.txt'\n",
    "ndf114 = '../Data_ndf/74-124GHz_0_499_11-18_ndf114.txt'\n",
    "\n",
    "f,hdpe = fpga_daq.refl_save(p,h,refl.field.N)\n",
    "f,n110 = fpga_daq.refl_save(p,ndf110,refl.field.N)\n",
    "f,n112 = fpga_daq.refl_save(p,ndf112,refl.field.N)\n",
    "f,n114 = fpga_daq.refl_save(p,ndf114,refl.field.N)"
   ]
  },
  {
   "cell_type": "markdown",
   "metadata": {},
   "source": [
    "## Fitting "
   ]
  },
  {
   "cell_type": "code",
   "execution_count": null,
   "metadata": {
    "jupyter": {
     "source_hidden": true
    }
   },
   "outputs": [],
   "source": [
    "# initial guess passed to fitting funtion: [n_re, n_im, d]\n",
    "p0_hdpe = [1.5,9e-4,19.]\n",
    "p0_110 = [1.8,5e-2,7.]\n",
    "p0_112 = [1.8,4e-2,8.]\n",
    "p0_114 = [1.8,4e-2,8.]\n",
    "\n",
    "# bounds on fitting parameters passed to fitting function\n",
    "bb_hdpe = ([1.2,6e-4,17.],[2,1e-2,22.])\n",
    "bb_ndf = ([1.4,1e-3,5.],[3,8e-1,9.])\n",
    "\n",
    "n_popt_HDPE, n_pcov = curve_fit(refl.find_reflectance,f,10*np.log10(hdpe),p0=p0_hdpe, bounds = bb_hdpe)\n",
    "r_hdpe = refl.find_reflectance(f,*n_popt_HDPE)\n",
    "\n",
    "n_popt_110, n_pcov = curve_fit(refl.find_reflectance,f,10*np.log10(n110),p0=p0_110, bounds = bb_ndf)\n",
    "r_n110 = refl.find_reflectance(f,*n_popt_110)\n",
    "\n",
    "n_popt_112, n_pcov = curve_fit(refl.find_reflectance,f,10*np.log10(n112),p0=p0_112, bounds = bb_ndf)\n",
    "r_n112 = refl.find_reflectance(f,*n_popt_112)\n",
    "\n",
    "n_popt_114, n_pcov = curve_fit(refl.find_reflectance,f,10*np.log10(n114),p0=p0_114, bounds = bb_ndf)\n",
    "r_n114 = refl.find_reflectance(f,*n_popt_114)"
   ]
  },
  {
   "cell_type": "markdown",
   "metadata": {},
   "source": [
    "## Output of Measurement and Models"
   ]
  },
  {
   "cell_type": "code",
   "execution_count": null,
   "metadata": {
    "jupyter": {
     "source_hidden": true
    }
   },
   "outputs": [],
   "source": [
    "plt.figure(figsize = (10,5))\n",
    "\n",
    "plt.plot(f,10**(r_hdpe/10),'-.',color = 'r',label = 'Model HDPE')\n",
    "plt.plot(f,hdpe,color = 'm',label = 'HDPE')\n",
    "\n",
    "plt.plot(f,n110,color = 'b',label = 'NDF 110')\n",
    "plt.plot(f,10**(r_n110/10),'-.',color = 'c',label = 'Model 110')\n",
    "\n",
    "plt.plot(f,n112,color = 'g',label = 'NDF 112')\n",
    "plt.plot(f,10**(r_n112/10),'-.',color = 'lime',label = 'Model 112')\n",
    "\n",
    "plt.plot(f,n114,'.',color = 'orange',label = 'NDF 114')\n",
    "plt.semilogy(f,10**(r_n114/10),'-.',color = 'yellow',label = 'Model 114')\n",
    "\n",
    "plt.legend()\n",
    "plt.title('Reflectivity')\n",
    "plt.ylabel('R')\n",
    "plt.xlabel(r'$\\nu$ [GHz]')\n",
    "\n",
    "plt.ylim(1e-4,1)\n",
    "plt.show()"
   ]
  },
  {
   "cell_type": "markdown",
   "metadata": {},
   "source": [
    "Print the optical properties of all samples: "
   ]
  },
  {
   "cell_type": "code",
   "execution_count": null,
   "metadata": {
    "jupyter": {
     "source_hidden": true
    }
   },
   "outputs": [],
   "source": [
    "print(r\"HDPE: D = {:.2f} mm, N = {:.3f} + {:.3f}i, Loss tangent = {:.3f}\".\\\n",
    "      format(n_popt_HDPE[2],n_popt_HDPE[0],n_popt_HDPE[1],2*n_popt_HDPE[1]/n_popt_HDPE[0]))\n",
    "print(\"NDF 110: D = {:.2f} mm, N = {:.3f} + {:.3f}i, Loss tangent = {:.3f}\".\\\n",
    "      format(n_popt_110[2],n_popt_110[0],n_popt_110[1],2*n_popt_110[1]/n_popt_110[0]))\n",
    "print(\"NDF 112: D = {:.2f} mm, N = {:.3f} + {:.3f}i, Loss tangent = {:.3f}\".\\\n",
    "      format(n_popt_112[2],n_popt_112[0],n_popt_112[1],2*n_popt_112[1]/n_popt_112[0]))\n",
    "print(\"NDF 114: D = {:.2f} mm, N = {:.3f} + {:.3f}i, Loss tangent = {:.3f}\".\\\n",
    "      format(n_popt_114[2],n_popt_114[0],n_popt_114[1],2*n_popt_114[1]/n_popt_114[0]))"
   ]
  },
  {
   "cell_type": "code",
   "execution_count": null,
   "metadata": {},
   "outputs": [],
   "source": []
  }
 ],
 "metadata": {
  "kernelspec": {
   "display_name": "Python 3",
   "language": "python",
   "name": "python3"
  },
  "language_info": {
   "codemirror_mode": {
    "name": "ipython",
    "version": 3
   },
   "file_extension": ".py",
   "mimetype": "text/x-python",
   "name": "python",
   "nbconvert_exporter": "python",
   "pygments_lexer": "ipython3",
   "version": "3.7.5"
  }
 },
 "nbformat": 4,
 "nbformat_minor": 4
}
